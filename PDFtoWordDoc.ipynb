{
 "cells": [
  {
   "cell_type": "code",
   "execution_count": null,
   "id": "8f1b1871",
   "metadata": {},
   "outputs": [
    {
     "name": "stdout",
     "output_type": "stream",
     "text": [
      " * Serving Flask app \"__main__\" (lazy loading)\n",
      " * Environment: production\n",
      "   WARNING: This is a development server. Do not use it in a production deployment.\n",
      "   Use a production WSGI server instead.\n",
      " * Debug mode: off\n"
     ]
    },
    {
     "name": "stderr",
     "output_type": "stream",
     "text": [
      " * Running on http://127.0.0.1:8000/ (Press CTRL+C to quit)\n",
      "127.0.0.1 - - [12/May/2022 13:52:24] \"\u001b[37mGET / HTTP/1.1\u001b[0m\" 200 -\n",
      "127.0.0.1 - - [12/May/2022 13:52:24] \"\u001b[33mGET /favicon.ico HTTP/1.1\u001b[0m\" 404 -\n"
     ]
    },
    {
     "name": "stdout",
     "output_type": "stream",
     "text": [
      "input_file NLP+-+Project+2.pdf\n",
      "\r",
      "Parsing Page 1: 1/8..."
     ]
    },
    {
     "name": "stderr",
     "output_type": "stream",
     "text": [
      "Deprecation: 'getText' removed from class 'Page' after v1.19 - use 'get_text'.\n",
      "Deprecation: 'getImageList' removed from class 'Page' after v1.19 - use 'get_images'.\n",
      "Deprecation: 'getImageBbox' removed from class 'Page' after v1.19 - use 'get_image_bbox'.\n",
      "Deprecation: 'setAlpha' removed from class 'Pixmap' after v1.19 - use 'set_alpha'.\n",
      "Deprecation: 'getPNGData' removed from class 'Pixmap' after v1.19 - use 'tobytes'.\n",
      "Deprecation: 'getDrawings' removed from class 'Page' after v1.19 - use 'get_drawings'.\n",
      "Deprecation: 'getArea' removed from class 'Rect' after v1.19 - use 'get_area'.\n",
      "Deprecation: 'xrefStream' removed from class 'Document' after v1.19 - use 'xref_stream'.\n",
      "Deprecation: 'updateStream' removed from class 'Document' after v1.19 - use 'update_stream'.\n",
      "Deprecation: 'getPixmap' removed from class 'Page' after v1.19 - use 'get_pixmap'.\n"
     ]
    },
    {
     "name": "stdout",
     "output_type": "stream",
     "text": [
      "\r",
      "Parsing Page 2: 2/8..."
     ]
    },
    {
     "name": "stderr",
     "output_type": "stream",
     "text": [
      "Deprecation: 'getLinks' removed from class 'Page' after v1.19 - use 'get_links'.\n"
     ]
    },
    {
     "name": "stdout",
     "output_type": "stream",
     "text": [
      "Parsing Page 3: 3/8...Ignore Line \"TOTAL\" due to overlap\n",
      "Parsing Page 8: 8/8...\n",
      "Creating Page 8: 8/8...input_file NLP+-+Project+2.pdf\n",
      "Parsing Page 3: 3/8...Ignore Line \"TOTAL\" due to overlap\n",
      "Parsing Page 8: 8/8..."
     ]
    },
    {
     "name": "stderr",
     "output_type": "stream",
     "text": [
      "[2022-05-12 13:52:40,833] ERROR in app: Exception on /index [POST]\n",
      "Traceback (most recent call last):\n",
      "  File \"C:\\ProgramData\\Anaconda3\\lib\\site-packages\\flask\\app.py\", line 2447, in wsgi_app\n",
      "    response = self.full_dispatch_request()\n",
      "  File \"C:\\ProgramData\\Anaconda3\\lib\\site-packages\\flask\\app.py\", line 1952, in full_dispatch_request\n",
      "    rv = self.handle_user_exception(e)\n",
      "  File \"C:\\ProgramData\\Anaconda3\\lib\\site-packages\\flask\\app.py\", line 1821, in handle_user_exception\n",
      "    reraise(exc_type, exc_value, tb)\n",
      "  File \"C:\\ProgramData\\Anaconda3\\lib\\site-packages\\flask\\_compat.py\", line 39, in reraise\n",
      "    raise value\n",
      "  File \"C:\\ProgramData\\Anaconda3\\lib\\site-packages\\flask\\app.py\", line 1950, in full_dispatch_request\n",
      "    rv = self.dispatch_request()\n",
      "  File \"C:\\ProgramData\\Anaconda3\\lib\\site-packages\\flask\\app.py\", line 1936, in dispatch_request\n",
      "    return self.view_functions[rule.endpoint](**req.view_args)\n",
      "  File \"<ipython-input-1-60e2b021fa12>\", line 39, in index\n",
      "    covert_pdf2docx(input_file,output_file)\n",
      "  File \"<ipython-input-1-60e2b021fa12>\", line 28, in covert_pdf2docx\n",
      "    result = parse(input_file,output_file)\n",
      "  File \"C:\\ProgramData\\Anaconda3\\lib\\site-packages\\pdf2docx\\main.py\", line 32, in convert\n",
      "    cv.convert(docx_file, start, end, pages, kwargs)\n",
      "  File \"C:\\ProgramData\\Anaconda3\\lib\\site-packages\\pdf2docx\\converter.py\", line 238, in convert\n",
      "    self._parse_and_create_pages(docx_filename, page_indexes, kwargs)\n",
      "  File \"C:\\ProgramData\\Anaconda3\\lib\\site-packages\\pdf2docx\\converter.py\", line 275, in _parse_and_create_pages\n",
      "    self.parse(page_indexes=page_indexes, kwargs=kwargs).make_docx(docx_filename)\n",
      "  File \"C:\\ProgramData\\Anaconda3\\lib\\site-packages\\pdf2docx\\converter.py\", line 106, in make_docx\n",
      "    if os.path.exists(filename): os.remove(filename)\n",
      "PermissionError: [WinError 32] The process cannot access the file because it is being used by another process: 'NLP+-+Project+2.docx'\n",
      "127.0.0.1 - - [12/May/2022 13:52:40] \"\u001b[35m\u001b[1mPOST /index HTTP/1.1\u001b[0m\" 500 -\n",
      "127.0.0.1 - - [12/May/2022 13:52:40] \"\u001b[37mPOST /index HTTP/1.1\u001b[0m\" 200 -\n"
     ]
    },
    {
     "name": "stdout",
     "output_type": "stream",
     "text": [
      "\n",
      "--------------------------------------------------\n",
      "Terminated in 5.283886500000001s.\n",
      "NLP+-+Project+2.docx\n",
      "NLP+-+Project+2.docx\n"
     ]
    }
   ],
   "source": [
    "from flask import Flask\n",
    "from flask import request,render_template,redirect,url_for,send_file\n",
    "import os\n",
    "from pdf2docx import parse\n",
    "from typing import Tuple\n",
    "# from tkinter import T,messagebox\n",
    "# from tkinter import _tkinter\n",
    "UPLOAD_FOLDER =''\n",
    "\n",
    "app = Flask(__name__,template_folder='templates')\n",
    "app.config['UPLOAD_FOLDER'] = UPLOAD_FOLDER\n",
    "\n",
    "@app.route('/')\n",
    "    \n",
    "@app.route('/index',methods =['GET','POST'])\n",
    "def index():\n",
    "\tif request.method==\"POST\":\n",
    "#\t\tdef covert_pdf2docx(input_file:str,output_file:str,pages:Tuple=None):\n",
    "#\t\t\tprint(\"pages\",pages)\n",
    "#\t\t\tif pages:\n",
    "#\t\t\t\tprint(\"Hello\")                \n",
    "#\t\t\t\tpages=[int(i) for i in list(pages) if i.isnumeric()]\n",
    "#\t\t\t\tresult=parse(pdf_file=input_file,docx_with_path=output_file,pages=pages)\n",
    "#\t\t\t\tsummary={\"File\":input_file,\"Pages\":str(pages),\"Output File\":output_file}\n",
    "#\t\t\t\tprint(\"\\n\".join(\"{}:{}\".format(i,j) for i,j in summary.iterms()))\n",
    "#\t\t\t\treturn result\n",
    "\t\tdef covert_pdf2docx(input_file,output_file):\n",
    "\t\t\tresult = parse(input_file,output_file)\n",
    "\t\t\treturn result\n",
    "            \n",
    "\t\tfile=request.files['filename']\n",
    "\n",
    "\t\tif file.filename!='':\n",
    "\t\t\tfile.save(os.path.join(app.config['UPLOAD_FOLDER'],file.filename))\n",
    "\t\tinput_file=file.filename\n",
    "\t\tprint(\"input_file\",input_file)\n",
    "#\t\toutput_file=r\"hello.docx\"\n",
    "\t\toutput_file=input_file.split(\".\")[0]+\".docx\"\n",
    "\t\tcovert_pdf2docx(input_file,output_file)\n",
    "\t\tdoc=input_file.split(\".\")[0]+\".docx\"\n",
    "\t\tprint(doc)\n",
    "\t\tlis=doc.replace(\" \",\"=\")\n",
    "\t\tprint(lis)\n",
    "\t\treturn render_template(\"docx.html\",variable=lis)\n",
    "\treturn render_template(\"index.html\")\n",
    "    \n",
    "@app.route('/docx',methods =['GET','POST'])\n",
    "def docx():\n",
    "\tif request.method==\"POST\":\n",
    "\t\tlis=request.form.get('filename',None)\n",
    "\t\tprint(\"lis\",lis)\n",
    "\t\tlis=lis.replace(\"=\",\" \") \n",
    "\t\treturn send_file(lis,as_attachment=True)\n",
    "\treturn render_template(\"index.html\")\n",
    "\n",
    "if __name__==\"__main__\":\n",
    "#\tapp.debug=True\n",
    "\tapp.run(port=8000)"
   ]
  },
  {
   "cell_type": "code",
   "execution_count": null,
   "id": "854853bc",
   "metadata": {},
   "outputs": [],
   "source": []
  }
 ],
 "metadata": {
  "kernelspec": {
   "display_name": "Python 3",
   "language": "python",
   "name": "python3"
  },
  "language_info": {
   "codemirror_mode": {
    "name": "ipython",
    "version": 3
   },
   "file_extension": ".py",
   "mimetype": "text/x-python",
   "name": "python",
   "nbconvert_exporter": "python",
   "pygments_lexer": "ipython3",
   "version": "3.8.8"
  }
 },
 "nbformat": 4,
 "nbformat_minor": 5
}
